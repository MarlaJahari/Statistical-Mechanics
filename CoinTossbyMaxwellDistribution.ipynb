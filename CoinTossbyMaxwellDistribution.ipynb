{
 "cells": [
  {
   "cell_type": "markdown",
   "metadata": {},
   "source": [
    "$Shahnaz Abdul Hameed$\n",
    "$CoinToss-Probability$\n"
   ]
  },
  {
   "cell_type": "code",
   "execution_count": 3,
   "metadata": {},
   "outputs": [],
   "source": [
    "import math \n",
    "import numpy as np\n",
    "import matplotlib.pyplot as plt\n",
    "from tabulate import tabulate\n",
    "from itertools import permutations"
   ]
  },
  {
   "cell_type": "code",
   "execution_count": 4,
   "metadata": {},
   "outputs": [],
   "source": [
    "def P(N1,N2):\n",
    "    p = math.factorial(N1+N2)/(math.factorial(N1)*math.factorial(N2))\n",
    "    return p"
   ]
  },
  {
   "cell_type": "code",
   "execution_count": 6,
   "metadata": {},
   "outputs": [
    {
     "name": "stdout",
     "output_type": "stream",
     "text": [
      "No: of coins: 7\n"
     ]
    }
   ],
   "source": [
    "n = int(input(\"No: of coins: \"))\n",
    "w = np.linspace(0,n,n+1)\n",
    "table = np.zeros([n+1,6])\n",
    "Prob = np.zeros(n+1)\n",
    "for i in range(n+1):\n",
    "    N1 = n-i\n",
    "    N2 = i\n",
    "    Prob[i] = P(N1,N2)\n",
    "    table[i,:] = [i,N1,N2,Prob[i],Prob[i]/2**n,Prob[i]]\n",
    "     "
   ]
  },
  {
   "cell_type": "code",
   "execution_count": 5,
   "metadata": {},
   "outputs": [
    {
     "name": "stdout",
     "output_type": "stream",
     "text": [
      "+---------+------+------+------+----------------------+------------------+\n",
      "|   S.No. |   N1 |   N2 |   wk |   Actual Probability |   MB distribtion |\n",
      "+=========+======+======+======+======================+==================+\n",
      "|       0 |    4 |    0 |    1 |               0.0625 |                1 |\n",
      "+---------+------+------+------+----------------------+------------------+\n",
      "|       1 |    3 |    1 |    4 |               0.25   |                4 |\n",
      "+---------+------+------+------+----------------------+------------------+\n",
      "|       2 |    2 |    2 |    6 |               0.375  |                6 |\n",
      "+---------+------+------+------+----------------------+------------------+\n",
      "|       3 |    1 |    3 |    4 |               0.25   |                4 |\n",
      "+---------+------+------+------+----------------------+------------------+\n",
      "|       4 |    0 |    4 |    1 |               0.0625 |                1 |\n",
      "+---------+------+------+------+----------------------+------------------+\n"
     ]
    }
   ],
   "source": [
    "header = [\"S.No.\",\"N1\",\"N2\",\"wk\",\"Actual Probability\",\"MB distribtion\"]\n",
    "print(tabulate(table,headers = header, tablefmt = \"grid\"))"
   ]
  },
  {
   "cell_type": "code",
   "execution_count": 6,
   "metadata": {},
   "outputs": [
    {
     "name": "stdout",
     "output_type": "stream",
     "text": [
      "Microstates : \n",
      "['HHHH', 'HHHT', 'HHTH', 'HHTT', 'HTHH', 'HTHT', 'HTTH', 'HTTT', 'THHH', 'THHT', 'THTH', 'THTT', 'TTHH', 'TTHT', 'TTTH', 'TTTT']\n"
     ]
    }
   ],
   "source": [
    "print(\"Microstates : \")\n",
    "a_string = 'HT'\n",
    "final_list = [[]]\n",
    "length = 2*len(a_string)\n",
    "groups = [list(a_string)] * length\n",
    "for i in groups:\n",
    "    final_list = [x+[y] for x in final_list for y in i]\n",
    "permutations = [''.join(item) for item in final_list]\n",
    "print(permutations)"
   ]
  },
  {
   "cell_type": "code",
   "execution_count": 7,
   "metadata": {},
   "outputs": [
    {
     "data": {
      "text/plain": [
       "[<matplotlib.lines.Line2D at 0x2ce770016d0>]"
      ]
     },
     "execution_count": 7,
     "metadata": {},
     "output_type": "execute_result"
    },
    {
     "data": {
      "image/png": "[encoded data removed]",
      "text/plain": [
       "<Figure size 432x288 with 1 Axes>"
      ]
     },
     "metadata": {
      "needs_background": "light"
     },
     "output_type": "display_data"
    }
   ],
   "source": [
    "plt.plot(w,Prob)"
   ]
  },
  {
   "cell_type": "code",
   "execution_count": null,
   "metadata": {},
   "outputs": [],
   "source": []
  }
 ],
 "metadata": {
  "kernelspec": {
   "display_name": "Python 3 (ipykernel)",
   "language": "python",
   "name": "python3"
  },
  "language_info": {
   "codemirror_mode": {
    "name": "ipython",
    "version": 3
   },
   "file_extension": ".py",
   "mimetype": "text/x-python",
   "name": "python",
   "nbconvert_exporter": "python",
   "pygments_lexer": "ipython3",
   "version": "3.9.15"
  }
 },
 "nbformat": 4,
 "nbformat_minor": 4
}
