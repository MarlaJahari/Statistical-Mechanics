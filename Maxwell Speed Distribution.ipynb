{
 "cells": [
  {
   "cell_type": "markdown",
   "metadata": {},
   "source": [
    "Shahnaz Abdul Hameed\n",
    "\n",
    "Statistical Mechanics"
   ]
  },
  {
   "cell_type": "markdown",
   "metadata": {},
   "source": [
    "Maxwell-Boltzmann distribution : \n",
    "    *$f(E)= Aexp(-E/kT)$*\n",
    "\n",
    "Since probability*(f(E))* of finding a particle decreases as it's kinetic energy*(E)* increases\n",
    "\n",
    "$f(v_{x}) = (\\frac{m}{2\\pi kT})^\\frac{1}{2}  \\exp(\\frac{mv_{x}^2}{2kT})$\n",
    "\n",
    "$\\implies f(v) = 4\\pi (\\frac{m}{2\\pi kT})^\\frac{3}{2} v^2  \\exp(\\frac{m(v_{x}^2+v_{y}^2+v_{z}^2)}{2kT})$\n",
    "for 3-D, since $\\text{volume element}= 4 \\pi v^2 dv$\n",
    "\n",
    "$f(v) =4\\pi (\\frac{m}{2\\pi kT})^\\frac{3}{2} v^2  \\exp(\\frac{mv^2}{2kT})$\n",
    "\n",
    "$v_{rms} = (\\frac{3kT}{m})^\\frac{1}{2}$ ;\n",
    "$v_{mp} = (\\frac{2kT}{m})^\\frac{1}{2}$ ;\n",
    "$v_{ave} = (\\frac{8kT}{\\pi m})^\\frac{1}{2}$\n",
    "\n",
    "or\n",
    "\n",
    "$ v_{rms} = \\sqrt \\int_{0}^{\\infty}v^2 f(v) dv$ ;$v_{ave} = \\int_{0}^{\\infty}v f(v)dv$;\n",
    "\n",
    "$\\frac{df(v)}{dv}=0 \\text{ solve for $v_{mp}$} $ "
   ]
  },
  {
   "cell_type": "code",
   "execution_count": 1,
   "metadata": {},
   "outputs": [],
   "source": [
    "import numpy as np\n",
    "from numpy import pi,zeros,sqrt\n",
    "import sympy as sp\n",
    "from sympy import integrate\n",
    "import math\n",
    "import matplotlib.pyplot as plt"
   ]
  },
  {
   "cell_type": "code",
   "execution_count": 2,
   "metadata": {},
   "outputs": [
    {
     "name": "stdout",
     "output_type": "stream",
     "text": [
      "Enter the molar mass(gms): 32\n"
     ]
    }
   ],
   "source": [
    "M = int(input(\"Enter the molar mass (gm)\"))\n",
    "m = M/(6.022e+26)\n",
    "k = 1.38e-23"
   ]
  },
  {
   "cell_type": "code",
   "execution_count": 3,
   "metadata": {},
   "outputs": [],
   "source": [
    "\n",
    "def max(v,T):\n",
    "    a = m/(2*k*T)\n",
    "    b = (a/pi)**1.5\n",
    "    c= 1/np.exp(a*v*v)\n",
    "    f = 4*pi*b*v*v*c\n",
    "    return f"
   ]
  },
  {
   "cell_type": "code",
   "execution_count": 5,
   "metadata": {},
   "outputs": [
    {
     "name": "stdout",
     "output_type": "stream",
     "text": [
      "HOw many temperatures do you want the speeds for:2\n",
      "Enter temperature in K300\n",
      "Enter temperature in K900\n"
     ]
    }
   ],
   "source": [
    "n= int(input(\"How many temperatures do you want the speeds for:\"))\n",
    "T = zeros(n)\n",
    "for i in range(n):\n",
    "    T[i]=float(input(\"Enter temperature in K\"))"
   ]
  },
  {
   "cell_type": "code",
   "execution_count": 6,
   "metadata": {},
   "outputs": [
    {
     "data": {
      "text/plain": [
       "<matplotlib.legend.Legend at 0x2015028dbb0>"
      ]
     },
     "execution_count": 6,
     "metadata": {},
     "output_type": "execute_result"
    },
    {
     "data": {
      "image/png": "[encoded data removed]",
      "text/plain": [
       "<Figure size 432x288 with 1 Axes>"
      ]
     },
     "metadata": {
      "needs_background": "light"
     },
     "output_type": "display_data"
    }
   ],
   "source": [
    "x = 500\n",
    "V = np.linspace(0,2000,x)   \n",
    "Max = zeros(x)\n",
    "for j in range(n):\n",
    "    for i in range(x):\n",
    "        Max[i] = max(V[i],T[j])\n",
    "\n",
    "    plt.plot(V,Max)\n",
    "    \n",
    "plt.grid()\n",
    "plt.legend([\"for 300K\",\"for 900K\"])"
   ]
  },
  {
   "cell_type": "raw",
   "metadata": {},
   "source": []
  },
  {
   "cell_type": "code",
   "execution_count": 7,
   "metadata": {},
   "outputs": [
    {
     "name": "stdout",
     "output_type": "stream",
     "text": [
      "Speeds at 300.0 K temperature using formulae:\n",
      " v(rms): 483.4551426968173m/s \n",
      " v(most probable): 394.73947104387724m/s \n",
      " v(average): 445.41579555621337m/s\n",
      "\n",
      "Speeds at 900.0 K temperature using formulae:\n",
      " v(rms): 837.3688703313493m/s \n",
      " v(most probable): 683.708819600859m/s \n",
      " v(average): 771.4827883970734m/s\n",
      "\n"
     ]
    }
   ],
   "source": [
    "Vr  = zeros(n)\n",
    "Vmp =zeros(n)\n",
    "Vav = zeros(n)\n",
    "for i in range(n):\n",
    "    v_rms = sqrt(3*k*T[i]/m)\n",
    "    v_mp  = sqrt(2*k*T[i]/m)\n",
    "    v_av  = sqrt(8*k*T[i]/(pi*m))\n",
    "\n",
    "    print(\"Speeds at {} K temperature using formulae:\\n v(rms): {}m/s \\n v(most probable): {}m/s \\n v(average): {}m/s\\n\".format(T[i],v_rms,v_mp,v_av))\n",
    "    Vr[i]  = v_rms\n",
    "    Vmp[i] = v_mp\n",
    "    Vav[i] = v_av"
   ]
  },
  {
   "cell_type": "code",
   "execution_count": 8,
   "metadata": {},
   "outputs": [],
   "source": [
    "def max(v,T):\n",
    "    a = m/(2*k*T)\n",
    "    b = (a/sp.pi)**1.5\n",
    "    c= sp.exp(-a*v*v)\n",
    "    f = 4*pi*b*v*v*c\n",
    "    return f"
   ]
  },
  {
   "cell_type": "code",
   "execution_count": 9,
   "metadata": {},
   "outputs": [
    {
     "name": "stdout",
     "output_type": "stream",
     "text": [
      "Speeds at 300.0 K temperature using integration:\n",
      " v(rms): 483.4551426968176m/s \n",
      " v(average): 445.41579555621314m/s\n",
      "\n",
      "Speeds at 900.0 K temperature using integration:\n",
      " v(rms): 837.3688703313484m/s \n",
      " v(average): 771.482788397074m/s\n",
      "\n"
     ]
    }
   ],
   "source": [
    "a = 0\n",
    "b = math.inf\n",
    "v = sp.Symbol('v')\n",
    "\n",
    "for i in range(n):\n",
    "    v_av = integrate(v*max(v,T[i]),(v,a,b))\n",
    "    v_av = eval(str(v_av))\n",
    "    v_rms2 =  integrate(v*v*max(v,T[i]),(v,a,b))\n",
    "    v_rms = sp.sqrt(v_rms2)\n",
    "    v_rms = eval(str(v_rms))\n",
    "    print(\"Speeds at {} Kelvin temperature using integration:\\n v(rms): {}m/s \\n v(average): {}m/s\\n\".format(T[i],v_rms,v_av))        "
   ]
  }
 ],
 "metadata": {
  "kernelspec": {
   "display_name": "Python 3 (ipykernel)",
   "language": "python",
   "name": "python3"
  },
  "language_info": {
   "codemirror_mode": {
    "name": "ipython",
    "version": 3
   },
   "file_extension": ".py",
   "mimetype": "text/x-python",
   "name": "python",
   "nbconvert_exporter": "python",
   "pygments_lexer": "ipython3",
   "version": "3.9.15"
  }
 },
 "nbformat": 4,
 "nbformat_minor": 4
}
