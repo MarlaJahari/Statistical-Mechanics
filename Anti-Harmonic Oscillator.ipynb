{
 "cells": [
  {
   "cell_type": "code",
   "execution_count": 3,
   "metadata": {},
   "outputs": [],
   "source": [
    "\n",
    "\n",
    "import numpy as np\n",
    "from numpy.linalg import lin\n",
    "import matplotlib.pyplot as plt\n",
    "\n",
    "\n",
    "\n",
    "m=940      #Proton Mass\n",
    "h=197.3\n",
    "K= 100     #Spring constant  \n",
    "\n",
    "n=int(input(\"No: of steps\")) \n",
    "r=np.resize(np.linspace(-5,5,n+1),n-1)          \n",
    "ho=r[n]-r[n-1]                #step-size\n",
    "k=h**2/(2*m)        \n",
    "\n",
    "# Making the n*n Hamiltonian Matrix\n",
    "H=np.zeros([n-1,n-1])           \n"
   ]
  },
  {
   "cell_type": "code",
   "execution_count": null,
   "metadata": {},
   "outputs": [],
   "source": [
    "print(\"Consider the Anti-Harmonic oscillator with:\\n V(r)=(kr^2/2)+(br^3/3)\")\n",
    "x=int(input(\"No: of values of b:\"))\n",
    "\n",
    "for i in range(x):\n",
    "    b=int(input(\"Enter b:\"))\n",
    "    V=[]                                       #Making the hamiltonian matrix\n",
    "    for i in range(n-1):\n",
    "        for j in range(n-1):\n",
    "            v=(K*r[i]*r[i]*0.5)+(b*r[i]**3)/3  #Potential\n",
    "            H[i,i]=2+v*ho*ho/k                 #Updating main diagonal & off-diagonal\n",
    "            if i==j+1:\n",
    "                H[i,j]=-1                      \n",
    "            if i==j-1:\n",
    "                H[i,j]=-1                      #Lower & Upper diagonal  \n",
    "        V.append(v)\n",
    "    E,u = lin(H)                               \n",
    "    \n",
    "    print('Ground state energy :',E[0]*k/(ho*ho),'MeV')\n",
    "    plt.subplot(1,2,1)\n",
    "    plt.plot(r,(np.absolute(u[:,0]))**2)\n",
    "    plt.xlabel('r: Distance from the nucleus')\n",
    "    plt.ylabel('Probabilty density (|psi|^2)')\n",
    "    plt.subplot(1,2,2)\n",
    "    plt.plot(r,V,'r')\n",
    "    plt.title('Potential vs r')\n",
    "    plt.show()\n"
   ]
  },
  {
   "cell_type": "markdown",
   "metadata": {},
   "source": [
    "## for i in range(3):\n",
    "    plt.plot(r,u[:,i])"
   ]
  },
  {
   "cell_type": "code",
   "execution_count": null,
   "metadata": {},
   "outputs": [],
   "source": []
  }
 ],
 "metadata": {
  "kernelspec": {
   "display_name": "Python 3 (ipykernel)",
   "language": "python",
   "name": "python3"
  },
  "language_info": {
   "codemirror_mode": {
    "name": "ipython",
    "version": 3
   },
   "file_extension": ".py",
   "mimetype": "text/x-python",
   "name": "python",
   "nbconvert_exporter": "python",
   "pygments_lexer": "ipython3",
   "version": "3.9.15"
  }
 },
 "nbformat": 4,
 "nbformat_minor": 4
}
