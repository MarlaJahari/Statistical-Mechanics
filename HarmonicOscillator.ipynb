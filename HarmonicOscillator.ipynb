{
 "cells": [
  {
   "cell_type": "code",
   "execution_count": 1,
   "metadata": {},
   "outputs": [],
   "source": [
    "import numpy as np\n",
    "import sympy as sp\n",
    "from scipy import constants as cons \n",
    "from sympy import exp,sympify\n",
    "from sympy.physics.qho_1d import E_n,psi_n\n",
    "from sympy.abc import omega,m,x\n",
    "import matplotlib.pyplot as plt\n",
    "\n",
    "def Sqrt(a):\n",
    "    return a**(1/2)"
   ]
  },
  {
   "cell_type": "code",
   "execution_count": 2,
   "metadata": {},
   "outputs": [
    {
     "name": "stdout",
     "output_type": "stream",
     "text": [
      "Enter the number of states you require energy from: 2\n",
      "Energy of 0 state:  32.1599 MeV\n",
      "Energy of 1 state:  96.47970000000001 MeV\n"
     ]
    }
   ],
   "source": [
    "omega= 0.326  \n",
    "m=940\n",
    "hb=197.3\n",
    "\n",
    "n=int(input(\"No: of energy states:\"))\n",
    "for i in range(n):\n",
    "    En=E_n(i,omega)\n",
    "    En=round(float(En/cons.hbar),5)    \n",
    "    En=En*hb                          \n",
    "    print(\"Energy of {} state: \".format(i),En,'MeV')"
   ]
  },
  {
   "cell_type": "code",
   "execution_count": 3,
   "metadata": {},
   "outputs": [
    {
     "name": "stdout",
     "output_type": "stream",
     "text": [
      "4.18394882015867*exp(-153.22*x**2/hbar)/(hbar**(1/4)*pi**(1/4))\n",
      "4.13192300721841e-9*pi**(-0.25)\n",
      "73.2418136960811*sqrt(2)*x*exp(-153.22*x**2/hbar)/(hbar**(3/4)*pi**(1/4))\n",
      "3.64121570150084e-8*pi**(-0.25)\n"
     ]
    },
    {
     "data": {
      "image/png": "[encoded data removed]",
      "text/plain": [
       "<Figure size 432x288 with 1 Axes>"
      ]
     },
     "metadata": {
      "needs_background": "light"
     },
     "output_type": "display_data"
    }
   ],
   "source": [
    "\n",
    "x=sp.Symbol('x')\n",
    "hbar=sp.Symbol('hbar')\n",
    "pi=sp.Symbol('pi')\n",
    "\n",
    "for i in range(n):\n",
    "    w=psi_n(i,x,m,omega)\n",
    "    print(w)\n",
    "    w=eval(str(w))\n",
    "    r=np.linspace(-5,5,200)\n",
    "    W=[]\n",
    "    for j in range(len(r)):\n",
    "        wf=w.subs([(hbar,197.3),(pi,sp.pi),(x,r[j])])\n",
    "        W.append(wf)\n",
    "    plt.plot(r,W)\n",
    "    print(wf)"
   ]
  },
  {
   "cell_type": "code",
   "execution_count": null,
   "metadata": {},
   "outputs": [],
   "source": []
  }
 ],
 "metadata": {
  "kernelspec": {
   "display_name": "Python 3 (ipykernel)",
   "language": "python",
   "name": "python3"
  },
  "language_info": {
   "codemirror_mode": {
    "name": "ipython",
    "version": 3
   },
   "file_extension": ".py",
   "mimetype": "text/x-python",
   "name": "python",
   "nbconvert_exporter": "python",
   "pygments_lexer": "ipython3",
   "version": "3.9.15"
  }
 },
 "nbformat": 4,
 "nbformat_minor": 4
}
